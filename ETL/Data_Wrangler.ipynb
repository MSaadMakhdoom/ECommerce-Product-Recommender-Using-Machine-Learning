{
 "cells": [
  {
   "cell_type": "code",
   "execution_count": 1,
   "metadata": {},
   "outputs": [],
   "source": [
    "import pandas as pd"
   ]
  },
  {
   "cell_type": "code",
   "execution_count": 3,
   "metadata": {},
   "outputs": [],
   "source": [
    "dfcustomers = pd.read_csv('Data\\olist_customers_dataset.csv')\n",
    "dfgeolocation = pd.read_csv('Data\\olist_geolocation_dataset.csv')\n",
    "dforder_items = pd.read_csv('Data\\olist_order_items_dataset.csv')\n",
    "dforder_payments = pd.read_csv('Data\\olist_order_payments_dataset.csv')\n",
    "dforder_reviews = pd.read_csv('Data\\olist_order_reviews_dataset.csv')\n",
    "dfproducts = pd.read_csv('Data\\olist_products_dataset.csv')\n",
    "dfsellers = pd.read_csv('Data\\olist_sellers_dataset.csv')\n",
    "dfproduct_category_name = pd.read_csv('Data\\product_category_name_translation.csv')"
   ]
  },
  {
   "cell_type": "code",
   "execution_count": null,
   "metadata": {},
   "outputs": [],
   "source": []
  }
 ],
 "metadata": {
  "kernelspec": {
   "display_name": "Python 3",
   "language": "python",
   "name": "python3"
  },
  "language_info": {
   "codemirror_mode": {
    "name": "ipython",
    "version": 3
   },
   "file_extension": ".py",
   "mimetype": "text/x-python",
   "name": "python",
   "nbconvert_exporter": "python",
   "pygments_lexer": "ipython3",
   "version": "3.6.10"
  }
 },
 "nbformat": 4,
 "nbformat_minor": 4
}
